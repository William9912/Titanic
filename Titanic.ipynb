{
 "cells": [
  {
   "cell_type": "code",
   "execution_count": 1,
   "metadata": {},
   "outputs": [],
   "source": [
    "import numpy as np\n",
    "import pandas as pd"
   ]
  },
  {
   "cell_type": "code",
   "execution_count": 2,
   "metadata": {},
   "outputs": [],
   "source": [
    "data = pd.read_csv(\"Titanic.csv\")"
   ]
  },
  {
   "cell_type": "code",
   "execution_count": 3,
   "metadata": {},
   "outputs": [
    {
     "data": {
      "text/html": [
       "<div>\n",
       "<style scoped>\n",
       "    .dataframe tbody tr th:only-of-type {\n",
       "        vertical-align: middle;\n",
       "    }\n",
       "\n",
       "    .dataframe tbody tr th {\n",
       "        vertical-align: top;\n",
       "    }\n",
       "\n",
       "    .dataframe thead th {\n",
       "        text-align: right;\n",
       "    }\n",
       "</style>\n",
       "<table border=\"1\" class=\"dataframe\">\n",
       "  <thead>\n",
       "    <tr style=\"text-align: right;\">\n",
       "      <th></th>\n",
       "      <th>ID</th>\n",
       "      <th>Class</th>\n",
       "      <th>Sex</th>\n",
       "      <th>Age</th>\n",
       "      <th>Survived</th>\n",
       "    </tr>\n",
       "  </thead>\n",
       "  <tbody>\n",
       "    <tr>\n",
       "      <th>0</th>\n",
       "      <td>1</td>\n",
       "      <td>1st</td>\n",
       "      <td>Male</td>\n",
       "      <td>Child</td>\n",
       "      <td>Yes</td>\n",
       "    </tr>\n",
       "    <tr>\n",
       "      <th>1</th>\n",
       "      <td>2</td>\n",
       "      <td>1st</td>\n",
       "      <td>Male</td>\n",
       "      <td>Child</td>\n",
       "      <td>Yes</td>\n",
       "    </tr>\n",
       "    <tr>\n",
       "      <th>2</th>\n",
       "      <td>3</td>\n",
       "      <td>1st</td>\n",
       "      <td>Male</td>\n",
       "      <td>Child</td>\n",
       "      <td>Yes</td>\n",
       "    </tr>\n",
       "    <tr>\n",
       "      <th>3</th>\n",
       "      <td>4</td>\n",
       "      <td>1st</td>\n",
       "      <td>Male</td>\n",
       "      <td>Child</td>\n",
       "      <td>Yes</td>\n",
       "    </tr>\n",
       "    <tr>\n",
       "      <th>4</th>\n",
       "      <td>5</td>\n",
       "      <td>1st</td>\n",
       "      <td>Male</td>\n",
       "      <td>Child</td>\n",
       "      <td>Yes</td>\n",
       "    </tr>\n",
       "    <tr>\n",
       "      <th>...</th>\n",
       "      <td>...</td>\n",
       "      <td>...</td>\n",
       "      <td>...</td>\n",
       "      <td>...</td>\n",
       "      <td>...</td>\n",
       "    </tr>\n",
       "    <tr>\n",
       "      <th>2196</th>\n",
       "      <td>2197</td>\n",
       "      <td>Crew</td>\n",
       "      <td>Female</td>\n",
       "      <td>Adult</td>\n",
       "      <td>Yes</td>\n",
       "    </tr>\n",
       "    <tr>\n",
       "      <th>2197</th>\n",
       "      <td>2198</td>\n",
       "      <td>Crew</td>\n",
       "      <td>Female</td>\n",
       "      <td>Adult</td>\n",
       "      <td>Yes</td>\n",
       "    </tr>\n",
       "    <tr>\n",
       "      <th>2198</th>\n",
       "      <td>2199</td>\n",
       "      <td>Crew</td>\n",
       "      <td>Female</td>\n",
       "      <td>Adult</td>\n",
       "      <td>Yes</td>\n",
       "    </tr>\n",
       "    <tr>\n",
       "      <th>2199</th>\n",
       "      <td>2200</td>\n",
       "      <td>Crew</td>\n",
       "      <td>Female</td>\n",
       "      <td>Adult</td>\n",
       "      <td>Yes</td>\n",
       "    </tr>\n",
       "    <tr>\n",
       "      <th>2200</th>\n",
       "      <td>2201</td>\n",
       "      <td>Crew</td>\n",
       "      <td>Female</td>\n",
       "      <td>Adult</td>\n",
       "      <td>Yes</td>\n",
       "    </tr>\n",
       "  </tbody>\n",
       "</table>\n",
       "<p>2201 rows × 5 columns</p>\n",
       "</div>"
      ],
      "text/plain": [
       "        ID Class     Sex    Age Survived\n",
       "0        1   1st    Male  Child      Yes\n",
       "1        2   1st    Male  Child      Yes\n",
       "2        3   1st    Male  Child      Yes\n",
       "3        4   1st    Male  Child      Yes\n",
       "4        5   1st    Male  Child      Yes\n",
       "...    ...   ...     ...    ...      ...\n",
       "2196  2197  Crew  Female  Adult      Yes\n",
       "2197  2198  Crew  Female  Adult      Yes\n",
       "2198  2199  Crew  Female  Adult      Yes\n",
       "2199  2200  Crew  Female  Adult      Yes\n",
       "2200  2201  Crew  Female  Adult      Yes\n",
       "\n",
       "[2201 rows x 5 columns]"
      ]
     },
     "execution_count": 3,
     "metadata": {},
     "output_type": "execute_result"
    }
   ],
   "source": [
    "data"
   ]
  },
  {
   "cell_type": "code",
   "execution_count": 4,
   "metadata": {},
   "outputs": [
    {
     "data": {
      "text/plain": [
       "array([[1, '1st', 'Male', 'Child', 'Yes'],\n",
       "       [2, '1st', 'Male', 'Child', 'Yes'],\n",
       "       [3, '1st', 'Male', 'Child', 'Yes'],\n",
       "       ...,\n",
       "       [2199, 'Crew', 'Female', 'Adult', 'Yes'],\n",
       "       [2200, 'Crew', 'Female', 'Adult', 'Yes'],\n",
       "       [2201, 'Crew', 'Female', 'Adult', 'Yes']], dtype=object)"
      ]
     },
     "execution_count": 4,
     "metadata": {},
     "output_type": "execute_result"
    }
   ],
   "source": [
    "data.values"
   ]
  },
  {
   "cell_type": "code",
   "execution_count": 5,
   "metadata": {},
   "outputs": [],
   "source": [
    "ndata = data.values"
   ]
  },
  {
   "cell_type": "code",
   "execution_count": 6,
   "metadata": {},
   "outputs": [],
   "source": [
    "nndata = ndata[:,1:]"
   ]
  },
  {
   "cell_type": "code",
   "execution_count": 7,
   "metadata": {},
   "outputs": [
    {
     "data": {
      "text/plain": [
       "4"
      ]
     },
     "execution_count": 7,
     "metadata": {},
     "output_type": "execute_result"
    }
   ],
   "source": [
    "nndata[1].size"
   ]
  },
  {
   "cell_type": "code",
   "execution_count": 8,
   "metadata": {},
   "outputs": [
    {
     "data": {
      "text/plain": [
       "8804"
      ]
     },
     "execution_count": 8,
     "metadata": {},
     "output_type": "execute_result"
    }
   ],
   "source": [
    "nndata.size"
   ]
  },
  {
   "cell_type": "code",
   "execution_count": 9,
   "metadata": {},
   "outputs": [],
   "source": [
    "col,row = nndata.shape"
   ]
  },
  {
   "cell_type": "code",
   "execution_count": 10,
   "metadata": {},
   "outputs": [
    {
     "data": {
      "text/plain": [
       "2201"
      ]
     },
     "execution_count": 10,
     "metadata": {},
     "output_type": "execute_result"
    }
   ],
   "source": [
    "col"
   ]
  },
  {
   "cell_type": "code",
   "execution_count": 11,
   "metadata": {},
   "outputs": [],
   "source": [
    "nmap = {}\n",
    "for i in range(col):\n",
    "    tem = \"\"\n",
    "    for j in range (nndata[i].size):\n",
    "        tem = tem + nndata[i][j]\n",
    "    if  tem in nmap:\n",
    "        nmap[tem]+=1\n",
    "    else:\n",
    "        nmap[tem]=1\n",
    "        \n"
   ]
  },
  {
   "cell_type": "code",
   "execution_count": 12,
   "metadata": {
    "scrolled": false
   },
   "outputs": [
    {
     "name": "stdout",
     "output_type": "stream",
     "text": [
      "1stMaleChildYes    5\n",
      "1stMaleAdultNo    118\n",
      "1stMaleAdultYes    57\n",
      "1stFemaleChildYes    1\n",
      "1stFemaleAdultNo    4\n",
      "1stFemaleAdultYes    140\n",
      "2ndMaleChildYes    11\n",
      "2ndMaleAdultNo    154\n",
      "2ndMaleAdultYes    14\n",
      "2ndFemaleChildYes    13\n",
      "2ndFemaleAdultNo    13\n",
      "2ndFemaleAdultYes    80\n",
      "3rdMaleChildNo    35\n",
      "3rdMaleChildYes    13\n",
      "3rdMaleAdultNo    387\n",
      "3rdMaleAdultYes    75\n",
      "3rdFemaleChildNo    17\n",
      "3rdFemaleChildYes    14\n",
      "3rdFemaleAdultNo    89\n",
      "3rdFemaleAdultYes    76\n",
      "CrewMaleAdultNo    670\n",
      "CrewMaleAdultYes    192\n",
      "CrewFemaleAdultNo    3\n",
      "CrewFemaleAdultYes    20\n"
     ]
    }
   ],
   "source": [
    "for key,value in nmap.items():\n",
    "    print(key,\"  \",value)"
   ]
  },
  {
   "cell_type": "code",
   "execution_count": 13,
   "metadata": {},
   "outputs": [
    {
     "data": {
      "text/plain": [
       "[('CrewMaleAdultNo', 670),\n",
       " ('3rdMaleAdultNo', 387),\n",
       " ('CrewMaleAdultYes', 192),\n",
       " ('2ndMaleAdultNo', 154),\n",
       " ('1stFemaleAdultYes', 140),\n",
       " ('1stMaleAdultNo', 118),\n",
       " ('3rdFemaleAdultNo', 89),\n",
       " ('2ndFemaleAdultYes', 80),\n",
       " ('3rdFemaleAdultYes', 76),\n",
       " ('3rdMaleAdultYes', 75),\n",
       " ('1stMaleAdultYes', 57),\n",
       " ('3rdMaleChildNo', 35),\n",
       " ('CrewFemaleAdultYes', 20),\n",
       " ('3rdFemaleChildNo', 17),\n",
       " ('2ndMaleAdultYes', 14),\n",
       " ('3rdFemaleChildYes', 14),\n",
       " ('2ndFemaleChildYes', 13),\n",
       " ('2ndFemaleAdultNo', 13),\n",
       " ('3rdMaleChildYes', 13),\n",
       " ('2ndMaleChildYes', 11),\n",
       " ('1stMaleChildYes', 5),\n",
       " ('1stFemaleAdultNo', 4),\n",
       " ('CrewFemaleAdultNo', 3),\n",
       " ('1stFemaleChildYes', 1)]"
      ]
     },
     "execution_count": 13,
     "metadata": {},
     "output_type": "execute_result"
    }
   ],
   "source": [
    "sorted(nmap.items(),key = lambda item:item[1],reverse=True)"
   ]
  },
  {
   "cell_type": "code",
   "execution_count": 14,
   "metadata": {},
   "outputs": [],
   "source": [
    "bmap = {\"Class\":0,\"Sex\":1,\"Age\":2,\"Survived\":3} "
   ]
  },
  {
   "cell_type": "code",
   "execution_count": 15,
   "metadata": {},
   "outputs": [],
   "source": [
    "def countC(types,values):\n",
    "    index = []\n",
    "    bmap = {\"Class\":0,\"Sex\":1,\"Age\":2,\"Survived\":3} \n",
    "    for type in types:\n",
    "        index.append(bmap[type])\n",
    "    count = 0\n",
    "    col,row = nndata.shape\n",
    "    for i in range(col):\n",
    "        b = True\n",
    "        for j in range(len(index)):\n",
    "            if nndata[i][index[j]] != values[j]:\n",
    "                b = False\n",
    "                break\n",
    "        if b:\n",
    "            count = count + 1\n",
    "    return count"
   ]
  },
  {
   "cell_type": "code",
   "execution_count": 16,
   "metadata": {},
   "outputs": [
    {
     "data": {
      "text/plain": [
       "1731"
      ]
     },
     "execution_count": 16,
     "metadata": {},
     "output_type": "execute_result"
    }
   ],
   "source": [
    "countC([\"Sex\"],[\"Male\"])"
   ]
  },
  {
   "attachments": {
    "image.png": {
     "image/png": "[encoded data removed]"
    }
   },
   "cell_type": "markdown",
   "metadata": {},
   "source": [
    "![image.png](attachment:image.png)"
   ]
  },
  {
   "cell_type": "markdown",
   "metadata": {},
   "source": [
    "#   A  t(a) = Fre(q)/Fre(hh)  / Fre(f)"
   ]
  },
  {
   "cell_type": "code",
   "execution_count": 17,
   "metadata": {},
   "outputs": [],
   "source": [
    "col,row = nndata.shape"
   ]
  },
  {
   "cell_type": "code",
   "execution_count": 18,
   "metadata": {},
   "outputs": [
    {
     "data": {
      "text/plain": [
       "2201"
      ]
     },
     "execution_count": 18,
     "metadata": {},
     "output_type": "execute_result"
    }
   ],
   "source": [
    "col"
   ]
  },
  {
   "cell_type": "code",
   "execution_count": 19,
   "metadata": {},
   "outputs": [],
   "source": [
    "q = countC([\"Class\",\"Survived\",\"Sex\"],[\"Crew\",\"No\",\"Male\"])\n",
    "hh = countC([\"Class\",\"Survived\"],[\"Crew\",\"No\"])\n",
    "h = countC([\"Sex\"],[\"Male\"])"
   ]
  },
  {
   "cell_type": "code",
   "execution_count": 20,
   "metadata": {},
   "outputs": [
    {
     "name": "stdout",
     "output_type": "stream",
     "text": [
      "670     1731     673\n"
     ]
    }
   ],
   "source": [
    "print(q,\"   \",h,\"   \",hh)"
   ]
  },
  {
   "cell_type": "code",
   "execution_count": 21,
   "metadata": {},
   "outputs": [],
   "source": [
    "freq = q/hh"
   ]
  },
  {
   "cell_type": "code",
   "execution_count": 22,
   "metadata": {},
   "outputs": [
    {
     "data": {
      "text/plain": [
       "0.9955423476968797"
      ]
     },
     "execution_count": 22,
     "metadata": {},
     "output_type": "execute_result"
    }
   ],
   "source": [
    "freq"
   ]
  },
  {
   "cell_type": "code",
   "execution_count": 23,
   "metadata": {},
   "outputs": [],
   "source": [
    "fref = h/col"
   ]
  },
  {
   "cell_type": "code",
   "execution_count": 24,
   "metadata": {},
   "outputs": [
    {
     "data": {
      "text/plain": [
       "0.7864606996819627"
      ]
     },
     "execution_count": 24,
     "metadata": {},
     "output_type": "execute_result"
    }
   ],
   "source": [
    "fref"
   ]
  },
  {
   "cell_type": "code",
   "execution_count": 25,
   "metadata": {},
   "outputs": [
    {
     "data": {
      "text/plain": [
       "1.265851361802907"
      ]
     },
     "execution_count": 25,
     "metadata": {},
     "output_type": "execute_result"
    }
   ],
   "source": [
    "freq/fref"
   ]
  },
  {
   "attachments": {
    "image.png": {
     "image/png": "[encoded data removed]"
    }
   },
   "cell_type": "markdown",
   "metadata": {},
   "source": [
    "![image.png](attachment:image.png)"
   ]
  },
  {
   "cell_type": "markdown",
   "metadata": {},
   "source": [
    "#   B  t(b)= Fre(q)/Fre(hh)  / Fre(f)"
   ]
  },
  {
   "cell_type": "code",
   "execution_count": 26,
   "metadata": {},
   "outputs": [],
   "source": [
    "q = countC([\"Class\",\"Survived\",\"Age\"],[\"3rd\",\"No\",\"Adult\"])\n",
    "hh = countC([\"Class\",\"Survived\"],[\"3rd\",\"No\"])\n",
    "h = countC([\"Age\"],[\"Adult\"])"
   ]
  },
  {
   "cell_type": "code",
   "execution_count": 27,
   "metadata": {},
   "outputs": [
    {
     "name": "stdout",
     "output_type": "stream",
     "text": [
      "0.9015151515151515\n",
      "0.9504770558836892\n",
      "0.9484870212642679\n"
     ]
    }
   ],
   "source": [
    "freq = q/hh\n",
    "fref = h/col\n",
    "result = freq/fref\n",
    "print(freq)\n",
    "print(fref)\n",
    "print(result)"
   ]
  },
  {
   "attachments": {
    "image.png": {
     "image/png": "[encoded data removed]"
    }
   },
   "cell_type": "markdown",
   "metadata": {},
   "source": [
    "![image.png](attachment:image.png)"
   ]
  },
  {
   "cell_type": "markdown",
   "metadata": {},
   "source": [
    "#   C  t(c)= Fre(q)/Fre(hh)  / Fre(f)"
   ]
  },
  {
   "cell_type": "code",
   "execution_count": 28,
   "metadata": {},
   "outputs": [],
   "source": [
    "q = countC([\"Class\",\"Age\"],[\"2nd\",\"Adult\"])\n",
    "hh = countC([\"Class\"],[\"2nd\"])\n",
    "h = countC([\"Age\"],[\"Adult\"])"
   ]
  },
  {
   "cell_type": "code",
   "execution_count": 29,
   "metadata": {},
   "outputs": [
    {
     "name": "stdout",
     "output_type": "stream",
     "text": [
      "0.9157894736842105\n",
      "0.9504770558836892\n",
      "0.9635050820167051\n"
     ]
    }
   ],
   "source": [
    "freq = q/hh\n",
    "fref = h/col\n",
    "result = freq/fref\n",
    "print(freq)\n",
    "print(fref)\n",
    "print(result)"
   ]
  },
  {
   "attachments": {
    "image.png": {
     "image/png": "[encoded data removed]"
    }
   },
   "cell_type": "markdown",
   "metadata": {},
   "source": [
    "![image.png](attachment:image.png)"
   ]
  },
  {
   "cell_type": "markdown",
   "metadata": {},
   "source": [
    "# D t(d)=  Fre(q)/Fre(hh)  / Fre(f)"
   ]
  },
  {
   "cell_type": "code",
   "execution_count": 30,
   "metadata": {},
   "outputs": [],
   "source": [
    "q = countC([\"Class\",\"Sex\",\"Age\",\"Survived\"],[\"3rd\",\"Male\",\"Adult\",\"No\"])\n",
    "hh = countC([\"Class\",\"Sex\",\"Age\"],[\"3rd\",\"Male\",\"Adult\"])\n",
    "h = countC([\"Survived\"],[\"No\"])"
   ]
  },
  {
   "cell_type": "code",
   "execution_count": 31,
   "metadata": {},
   "outputs": [
    {
     "name": "stdout",
     "output_type": "stream",
     "text": [
      "0.8376623376623377\n",
      "0.6769650159018628\n",
      "1.237379063889131\n"
     ]
    }
   ],
   "source": [
    "freq = q/hh\n",
    "fref = h/col\n",
    "result = freq/fref\n",
    "print(freq)\n",
    "print(fref)\n",
    "print(result)"
   ]
  },
  {
   "attachments": {
    "image.png": {
     "image/png": "[encoded data removed]"
    }
   },
   "cell_type": "markdown",
   "metadata": {},
   "source": [
    "![image.png](attachment:image.png)"
   ]
  },
  {
   "cell_type": "code",
   "execution_count": 32,
   "metadata": {},
   "outputs": [],
   "source": [
    "q = countC([\"Class\",\"Sex\",\"Age\",\"Survived\"],[\"3rd\",\"Male\",\"Child\",\"No\"])"
   ]
  },
  {
   "cell_type": "code",
   "execution_count": 33,
   "metadata": {},
   "outputs": [
    {
     "data": {
      "text/plain": [
       "0.01590186278964107"
      ]
     },
     "execution_count": 33,
     "metadata": {},
     "output_type": "execute_result"
    }
   ],
   "source": [
    "q/col"
   ]
  },
  {
   "cell_type": "code",
   "execution_count": 34,
   "metadata": {},
   "outputs": [
    {
     "data": {
      "text/plain": [
       "35"
      ]
     },
     "execution_count": 34,
     "metadata": {},
     "output_type": "execute_result"
    }
   ],
   "source": [
    "q"
   ]
  },
  {
   "cell_type": "code",
   "execution_count": 35,
   "metadata": {},
   "outputs": [
    {
     "data": {
      "text/plain": [
       "0.01590186278964107"
      ]
     },
     "execution_count": 35,
     "metadata": {},
     "output_type": "execute_result"
    }
   ],
   "source": [
    "35/2201\n"
   ]
  },
  {
   "attachments": {
    "image.png": {
     "image/png": "[encoded data removed]"
    }
   },
   "cell_type": "markdown",
   "metadata": {},
   "source": [
    "![image.png](attachment:image.png)"
   ]
  },
  {
   "cell_type": "code",
   "execution_count": 36,
   "metadata": {},
   "outputs": [],
   "source": [
    "q = countC([\"Class\",\"Age\",\"Survived\",\"Sex\"],[\"Crew\",\"Adult\",\"No\",\"Male\"])"
   ]
  },
  {
   "cell_type": "code",
   "execution_count": 37,
   "metadata": {},
   "outputs": [
    {
     "data": {
      "text/plain": [
       "0.3044070876874148"
      ]
     },
     "execution_count": 37,
     "metadata": {},
     "output_type": "execute_result"
    }
   ],
   "source": [
    "q/col"
   ]
  },
  {
   "cell_type": "code",
   "execution_count": 38,
   "metadata": {},
   "outputs": [],
   "source": [
    "hh = countC([\"Class\",\"Age\",\"Survived\"],[\"Crew\",\"Adult\",\"No\"])\n",
    "h = countC([\"Sex\"],[\"Male\"])"
   ]
  },
  {
   "cell_type": "code",
   "execution_count": 39,
   "metadata": {},
   "outputs": [
    {
     "data": {
      "text/plain": [
       "0.9955423476968797"
      ]
     },
     "execution_count": 39,
     "metadata": {},
     "output_type": "execute_result"
    }
   ],
   "source": [
    "r = q/hh\n",
    "r"
   ]
  },
  {
   "cell_type": "code",
   "execution_count": 40,
   "metadata": {},
   "outputs": [
    {
     "data": {
      "text/plain": [
       "0.7864606996819627"
      ]
     },
     "execution_count": 40,
     "metadata": {},
     "output_type": "execute_result"
    }
   ],
   "source": [
    "t = h/col\n",
    "t"
   ]
  },
  {
   "cell_type": "code",
   "execution_count": 41,
   "metadata": {},
   "outputs": [
    {
     "data": {
      "text/plain": [
       "1.265851361802907"
      ]
     },
     "execution_count": 41,
     "metadata": {},
     "output_type": "execute_result"
    }
   ],
   "source": [
    "r/t"
   ]
  },
  {
   "cell_type": "code",
   "execution_count": 42,
   "metadata": {},
   "outputs": [
    {
     "name": "stdout",
     "output_type": "stream",
     "text": [
      "654\n",
      "1438\n"
     ]
    }
   ],
   "source": [
    "clive = countC([\"Age\",\"Survived\"],[\"Adult\",\"Yes\"])\n",
    "cdead = countC([\"Age\",\"Survived\"],[\"Adult\",\"No\"])\n",
    "print(clive)\n",
    "print(cdead)"
   ]
  },
  {
   "cell_type": "code",
   "execution_count": 43,
   "metadata": {},
   "outputs": [
    {
     "name": "stdout",
     "output_type": "stream",
     "text": [
      "57\n",
      "52\n"
     ]
    }
   ],
   "source": [
    "clive = countC([\"Age\",\"Survived\"],[\"Child\",\"Yes\"])\n",
    "cdead = countC([\"Age\",\"Survived\"],[\"Child\",\"No\"])\n",
    "print(clive)\n",
    "print(cdead)"
   ]
  },
  {
   "cell_type": "markdown",
   "metadata": {},
   "source": [
    "# 1st->dead/live"
   ]
  },
  {
   "cell_type": "code",
   "execution_count": 44,
   "metadata": {},
   "outputs": [
    {
     "name": "stdout",
     "output_type": "stream",
     "text": [
      "122\n",
      "203\n"
     ]
    }
   ],
   "source": [
    "firstdead = countC([\"Class\",\"Survived\"],[\"1st\",\"No\"])\n",
    "firstlive = countC([\"Class\",\"Survived\"],[\"1st\",\"Yes\"])\n",
    "print(firstdead)\n",
    "print(firstlive)"
   ]
  },
  {
   "cell_type": "code",
   "execution_count": 45,
   "metadata": {},
   "outputs": [
    {
     "data": {
      "text/plain": [
       "325"
      ]
     },
     "execution_count": 45,
     "metadata": {},
     "output_type": "execute_result"
    }
   ],
   "source": [
    "first = countC([\"Class\"],[\"1st\"])\n",
    "first"
   ]
  },
  {
   "cell_type": "code",
   "execution_count": 46,
   "metadata": {},
   "outputs": [
    {
     "name": "stdout",
     "output_type": "stream",
     "text": [
      "0.05542935029532031\n",
      "0.09223080417991822\n"
     ]
    }
   ],
   "source": [
    "supfd = firstdead/col\n",
    "supfl = firstlive/col\n",
    "print(supfd)\n",
    "print(supfl)"
   ]
  },
  {
   "cell_type": "code",
   "execution_count": 47,
   "metadata": {},
   "outputs": [
    {
     "name": "stdout",
     "output_type": "stream",
     "text": [
      "0.37538461538461537\n",
      "0.6246153846153846\n"
     ]
    }
   ],
   "source": [
    "condead = firstdead/first\n",
    "conlive = firstlive/first\n",
    "print(condead)\n",
    "print(conlive)"
   ]
  },
  {
   "cell_type": "code",
   "execution_count": 48,
   "metadata": {},
   "outputs": [
    {
     "name": "stdout",
     "output_type": "stream",
     "text": [
      "1490\n",
      "711\n"
     ]
    }
   ],
   "source": [
    "dead = countC([\"Survived\"],[\"No\"])\n",
    "live = countC([\"Survived\"],[\"Yes\"])\n",
    "print(dead)\n",
    "print(live)"
   ]
  },
  {
   "cell_type": "code",
   "execution_count": 49,
   "metadata": {},
   "outputs": [
    {
     "name": "stdout",
     "output_type": "stream",
     "text": [
      "0.6769650159018628\n",
      "0.3230349840981372\n"
     ]
    }
   ],
   "source": [
    "supdead = dead/col\n",
    "suplive = live/col\n",
    "print(supdead)\n",
    "print(suplive)"
   ]
  },
  {
   "cell_type": "code",
   "execution_count": 50,
   "metadata": {},
   "outputs": [
    {
     "name": "stdout",
     "output_type": "stream",
     "text": [
      "0.5545110996386164\n",
      "1.933584334090663\n"
     ]
    }
   ],
   "source": [
    "td = condead / supdead\n",
    "tl = conlive / suplive\n",
    "print(td)\n",
    "print(tl)"
   ]
  },
  {
   "cell_type": "markdown",
   "metadata": {},
   "source": [
    "结论： 置信度为 0.3753  提升度为0.5545  低于先验概率 第一层的人更容易活下来"
   ]
  },
  {
   "cell_type": "markdown",
   "metadata": {},
   "source": [
    "# 2nd->dead/live"
   ]
  },
  {
   "cell_type": "code",
   "execution_count": 51,
   "metadata": {},
   "outputs": [
    {
     "name": "stdout",
     "output_type": "stream",
     "text": [
      "167\n",
      "118\n"
     ]
    }
   ],
   "source": [
    "seconddead = countC([\"Class\",\"Survived\"],[\"2nd\",\"No\"])\n",
    "secondlive = countC([\"Class\",\"Survived\"],[\"2nd\",\"Yes\"])\n",
    "print(seconddead)\n",
    "print(secondlive)"
   ]
  },
  {
   "cell_type": "code",
   "execution_count": 52,
   "metadata": {},
   "outputs": [
    {
     "data": {
      "text/plain": [
       "285"
      ]
     },
     "execution_count": 52,
     "metadata": {},
     "output_type": "execute_result"
    }
   ],
   "source": [
    "second = countC([\"Class\"],[\"2nd\"])\n",
    "second"
   ]
  },
  {
   "cell_type": "code",
   "execution_count": 53,
   "metadata": {},
   "outputs": [
    {
     "name": "stdout",
     "output_type": "stream",
     "text": [
      "0.07587460245343026\n",
      "0.05361199454793276\n"
     ]
    }
   ],
   "source": [
    "supsd = seconddead/col\n",
    "supsl = secondlive/col\n",
    "print(supsd)\n",
    "print(supsl)"
   ]
  },
  {
   "cell_type": "code",
   "execution_count": 54,
   "metadata": {},
   "outputs": [
    {
     "name": "stdout",
     "output_type": "stream",
     "text": [
      "0.5859649122807018\n",
      "0.41403508771929826\n"
     ]
    }
   ],
   "source": [
    "condead = seconddead/second\n",
    "conlive = secondlive/second\n",
    "print(condead)\n",
    "print(conlive)"
   ]
  },
  {
   "cell_type": "code",
   "execution_count": 55,
   "metadata": {},
   "outputs": [
    {
     "name": "stdout",
     "output_type": "stream",
     "text": [
      "0.8655763569998823\n",
      "1.2817035556542553\n"
     ]
    }
   ],
   "source": [
    "td = condead / supdead\n",
    "tl = conlive / suplive\n",
    "print(td)\n",
    "print(tl)"
   ]
  },
  {
   "cell_type": "markdown",
   "metadata": {},
   "source": [
    "结论：第二层活下来的概率会高一点"
   ]
  },
  {
   "cell_type": "markdown",
   "metadata": {},
   "source": [
    "# 3rd->dead/live"
   ]
  },
  {
   "cell_type": "code",
   "execution_count": 56,
   "metadata": {},
   "outputs": [
    {
     "name": "stdout",
     "output_type": "stream",
     "text": [
      "528\n",
      "178\n"
     ]
    }
   ],
   "source": [
    "thirddead = countC([\"Class\",\"Survived\"],[\"3rd\",\"No\"])\n",
    "thirdlive = countC([\"Class\",\"Survived\"],[\"3rd\",\"Yes\"])\n",
    "print(thirddead)\n",
    "print(thirdlive)"
   ]
  },
  {
   "cell_type": "code",
   "execution_count": 57,
   "metadata": {},
   "outputs": [
    {
     "data": {
      "text/plain": [
       "706"
      ]
     },
     "execution_count": 57,
     "metadata": {},
     "output_type": "execute_result"
    }
   ],
   "source": [
    "third = countC([\"Class\"],[\"3rd\"])\n",
    "third"
   ]
  },
  {
   "cell_type": "code",
   "execution_count": 58,
   "metadata": {},
   "outputs": [
    {
     "name": "stdout",
     "output_type": "stream",
     "text": [
      "0.23989095865515675\n",
      "0.08087233075874603\n"
     ]
    }
   ],
   "source": [
    "suptd = thirddead/col\n",
    "suptl = thirdlive/col\n",
    "print(suptd)\n",
    "print(suptl)"
   ]
  },
  {
   "cell_type": "code",
   "execution_count": 59,
   "metadata": {},
   "outputs": [
    {
     "name": "stdout",
     "output_type": "stream",
     "text": [
      "0.7478753541076487\n",
      "0.2521246458923513\n"
     ]
    }
   ],
   "source": [
    "condead = thirddead/third\n",
    "conlive = thirdlive/third\n",
    "print(condead)\n",
    "print(conlive)"
   ]
  },
  {
   "cell_type": "code",
   "execution_count": 60,
   "metadata": {},
   "outputs": [
    {
     "name": "stdout",
     "output_type": "stream",
     "text": [
      "1.1047474190543187\n",
      "0.7804871246259708\n"
     ]
    }
   ],
   "source": [
    "td = condead / supdead\n",
    "tl = conlive / suplive\n",
    "print(td)\n",
    "print(tl)"
   ]
  },
  {
   "cell_type": "markdown",
   "metadata": {},
   "source": [
    "结论：第三层死亡人数更多一点，可能是第三层更不容易往上走的原因"
   ]
  },
  {
   "cell_type": "markdown",
   "metadata": {},
   "source": [
    "# Crew->dead/live"
   ]
  },
  {
   "cell_type": "code",
   "execution_count": 61,
   "metadata": {},
   "outputs": [
    {
     "name": "stdout",
     "output_type": "stream",
     "text": [
      "673\n",
      "212\n"
     ]
    }
   ],
   "source": [
    "cdead = countC([\"Class\",\"Survived\"],[\"Crew\",\"No\"])\n",
    "clive = countC([\"Class\",\"Survived\"],[\"Crew\",\"Yes\"])\n",
    "print(cdead)\n",
    "print(clive)"
   ]
  },
  {
   "cell_type": "code",
   "execution_count": 62,
   "metadata": {},
   "outputs": [
    {
     "data": {
      "text/plain": [
       "885"
      ]
     },
     "execution_count": 62,
     "metadata": {},
     "output_type": "execute_result"
    }
   ],
   "source": [
    "c = countC([\"Class\"],[\"Crew\"])\n",
    "c"
   ]
  },
  {
   "cell_type": "code",
   "execution_count": 63,
   "metadata": {},
   "outputs": [
    {
     "name": "stdout",
     "output_type": "stream",
     "text": [
      "0.3057701044979555\n",
      "0.0963198546115402\n"
     ]
    }
   ],
   "source": [
    "supcd = cdead/col\n",
    "supcl = clive/col\n",
    "print(supcd)\n",
    "print(supcl)"
   ]
  },
  {
   "cell_type": "code",
   "execution_count": 64,
   "metadata": {},
   "outputs": [
    {
     "name": "stdout",
     "output_type": "stream",
     "text": [
      "0.7604519774011299\n",
      "0.23954802259887006\n"
     ]
    }
   ],
   "source": [
    "condead = cdead/c\n",
    "conlive = clive/c\n",
    "print(condead)\n",
    "print(conlive)"
   ]
  },
  {
   "cell_type": "code",
   "execution_count": 65,
   "metadata": {},
   "outputs": [
    {
     "name": "stdout",
     "output_type": "stream",
     "text": [
      "1.1233253706442194\n",
      "0.7415544272012842\n"
     ]
    }
   ],
   "source": [
    "td = condead / supdead\n",
    "tl = conlive / suplive\n",
    "print(td)\n",
    "print(tl)"
   ]
  },
  {
   "cell_type": "markdown",
   "metadata": {},
   "source": [
    "结论：船员死亡人数更多一点"
   ]
  },
  {
   "cell_type": "markdown",
   "metadata": {},
   "source": [
    "# Child/Adult-->dead/live"
   ]
  },
  {
   "cell_type": "code",
   "execution_count": 66,
   "metadata": {},
   "outputs": [
    {
     "name": "stdout",
     "output_type": "stream",
     "text": [
      "52\n",
      "57\n",
      "1438\n",
      "654\n"
     ]
    }
   ],
   "source": [
    "cdead = countC([\"Age\",\"Survived\"],[\"Child\",\"No\"])\n",
    "clive = countC([\"Age\",\"Survived\"],[\"Child\",\"Yes\"])\n",
    "adead = countC([\"Age\",\"Survived\"],[\"Adult\",\"No\"])\n",
    "alive = countC([\"Age\",\"Survived\"],[\"Adult\",\"Yes\"])\n",
    "print(cdead)\n",
    "print(clive)\n",
    "print(adead)\n",
    "print(alive)"
   ]
  },
  {
   "cell_type": "code",
   "execution_count": 67,
   "metadata": {},
   "outputs": [
    {
     "name": "stdout",
     "output_type": "stream",
     "text": [
      "0.023625624716038164\n",
      "0.025897319400272602\n",
      "0.6533393911858246\n",
      "0.2971376646978646\n"
     ]
    }
   ],
   "source": [
    "supcd = cdead/col\n",
    "supcl = clive/col\n",
    "supad = adead/col\n",
    "supal = alive/col\n",
    "print(supcd)\n",
    "print(supcl)\n",
    "print(supad)\n",
    "print(supal)"
   ]
  },
  {
   "cell_type": "code",
   "execution_count": 68,
   "metadata": {
    "scrolled": true
   },
   "outputs": [
    {
     "name": "stdout",
     "output_type": "stream",
     "text": [
      "109\n",
      "2092\n"
     ]
    }
   ],
   "source": [
    "child = countC([\"Age\"],[\"Child\"])\n",
    "adult = countC([\"Age\"],[\"Adult\"])\n",
    "print(child)\n",
    "print(adult)"
   ]
  },
  {
   "cell_type": "code",
   "execution_count": 69,
   "metadata": {},
   "outputs": [
    {
     "name": "stdout",
     "output_type": "stream",
     "text": [
      "0.47706422018348627\n",
      "0.5229357798165137\n",
      "0.6873804971319312\n",
      "0.31261950286806883\n"
     ]
    }
   ],
   "source": [
    "ccondead = cdead/child\n",
    "cconlive = clive/child\n",
    "acondead = adead/adult\n",
    "aconlive = alive/adult\n",
    "print(ccondead)\n",
    "print(cconlive)\n",
    "print(acondead)\n",
    "print(aconlive)"
   ]
  },
  {
   "cell_type": "code",
   "execution_count": 70,
   "metadata": {},
   "outputs": [
    {
     "name": "stdout",
     "output_type": "stream",
     "text": [
      "0.7047103010898345\n",
      "1.6188208880114583\n",
      "1.015385553145893\n",
      "0.9677574202709136\n"
     ]
    }
   ],
   "source": [
    "ctd = ccondead / supdead\n",
    "ctl = cconlive / suplive\n",
    "atd = acondead / supdead\n",
    "atl = aconlive / suplive\n",
    "print(ctd)\n",
    "print(ctl)\n",
    "print(atd)\n",
    "print(atl)"
   ]
  },
  {
   "cell_type": "markdown",
   "metadata": {},
   "source": [
    "结论：孩子确实相对于大人更容易活下来"
   ]
  },
  {
   "cell_type": "markdown",
   "metadata": {},
   "source": [
    "# Male/Famale->dead/live"
   ]
  },
  {
   "cell_type": "code",
   "execution_count": 71,
   "metadata": {},
   "outputs": [
    {
     "name": "stdout",
     "output_type": "stream",
     "text": [
      "126\n",
      "344\n",
      "1364\n",
      "367\n"
     ]
    }
   ],
   "source": [
    "cdead = countC([\"Sex\",\"Survived\"],[\"Female\",\"No\"])\n",
    "clive = countC([\"Sex\",\"Survived\"],[\"Female\",\"Yes\"])\n",
    "adead = countC([\"Sex\",\"Survived\"],[\"Male\",\"No\"])\n",
    "alive = countC([\"Sex\",\"Survived\"],[\"Male\",\"Yes\"])\n",
    "print(cdead)\n",
    "print(clive)\n",
    "print(adead)\n",
    "print(alive)"
   ]
  },
  {
   "cell_type": "code",
   "execution_count": 72,
   "metadata": {},
   "outputs": [
    {
     "name": "stdout",
     "output_type": "stream",
     "text": [
      "470\n",
      "1731\n"
     ]
    }
   ],
   "source": [
    "child = countC([\"Sex\"],[\"Female\"])\n",
    "adult = countC([\"Sex\"],[\"Male\"])\n",
    "print(child)\n",
    "print(adult)"
   ]
  },
  {
   "cell_type": "code",
   "execution_count": 73,
   "metadata": {},
   "outputs": [
    {
     "name": "stdout",
     "output_type": "stream",
     "text": [
      "0.05724670604270786\n",
      "0.1562925942753294\n",
      "0.6197183098591549\n",
      "0.1667423898228078\n"
     ]
    }
   ],
   "source": [
    "supcd = cdead/col\n",
    "supcl = clive/col\n",
    "supad = adead/col\n",
    "supal = alive/col\n",
    "print(supcd)\n",
    "print(supcl)\n",
    "print(supad)\n",
    "print(supal)"
   ]
  },
  {
   "cell_type": "code",
   "execution_count": 74,
   "metadata": {},
   "outputs": [
    {
     "name": "stdout",
     "output_type": "stream",
     "text": [
      "0.2680851063829787\n",
      "0.7319148936170212\n",
      "0.7879838243789717\n",
      "0.2120161756210283\n"
     ]
    }
   ],
   "source": [
    "ccondead = cdead/child\n",
    "cconlive = clive/child\n",
    "acondead = adead/adult\n",
    "aconlive = alive/adult\n",
    "print(ccondead)\n",
    "print(cconlive)\n",
    "print(acondead)\n",
    "print(aconlive)"
   ]
  },
  {
   "cell_type": "code",
   "execution_count": 75,
   "metadata": {},
   "outputs": [
    {
     "name": "stdout",
     "output_type": "stream",
     "text": [
      "0.39601028130801086\n",
      "2.265744980099949\n",
      "1.1639948976228973\n",
      "0.6563257419717066\n"
     ]
    }
   ],
   "source": [
    "ctd = ccondead / supdead\n",
    "ctl = cconlive / suplive\n",
    "atd = acondead / supdead\n",
    "atl = aconlive / suplive\n",
    "print(ctd)\n",
    "print(ctl)\n",
    "print(atd)\n",
    "print(atl)"
   ]
  },
  {
   "cell_type": "markdown",
   "metadata": {},
   "source": [
    "结论：女人活下来的机率会大很多，同样相对男人死亡几率大一点也证实了这个观点"
   ]
  },
  {
   "cell_type": "markdown",
   "metadata": {},
   "source": [
    "# 1st/2nd/3rd/Crew  /   Male/Female  /  Adult  -------->  live/dead"
   ]
  },
  {
   "cell_type": "code",
   "execution_count": 76,
   "metadata": {},
   "outputs": [
    {
     "name": "stdout",
     "output_type": "stream",
     "text": [
      "118\n",
      "57\n",
      "154\n",
      "14\n",
      "387\n",
      "75\n",
      "670\n",
      "192\n",
      "-------------------------------\n",
      "4\n",
      "140\n",
      "13\n",
      "80\n",
      "89\n",
      "76\n",
      "3\n",
      "20\n"
     ]
    }
   ],
   "source": [
    "fmad = countC([\"Class\",\"Sex\",\"Age\",\"Survived\"],[\"1st\",\"Male\",\"Adult\",\"No\"])\n",
    "fmal = countC([\"Class\",\"Sex\",\"Age\",\"Survived\"],[\"1st\",\"Male\",\"Adult\",\"Yes\"])\n",
    "ffmad = countC([\"Class\",\"Sex\",\"Age\",\"Survived\"],[\"1st\",\"Female\",\"Adult\",\"No\"])\n",
    "ffmal = countC([\"Class\",\"Sex\",\"Age\",\"Survived\"],[\"1st\",\"Female\",\"Adult\",\"Yes\"])\n",
    "smad = countC([\"Class\",\"Sex\",\"Age\",\"Survived\"],[\"2nd\",\"Male\",\"Adult\",\"No\"])\n",
    "smal = countC([\"Class\",\"Sex\",\"Age\",\"Survived\"],[\"2nd\",\"Male\",\"Adult\",\"Yes\"])\n",
    "sfmad = countC([\"Class\",\"Sex\",\"Age\",\"Survived\"],[\"2nd\",\"Female\",\"Adult\",\"No\"])\n",
    "sfmal = countC([\"Class\",\"Sex\",\"Age\",\"Survived\"],[\"2nd\",\"Female\",\"Adult\",\"Yes\"])\n",
    "tmad = countC([\"Class\",\"Sex\",\"Age\",\"Survived\"],[\"3rd\",\"Male\",\"Adult\",\"No\"])\n",
    "tmal = countC([\"Class\",\"Sex\",\"Age\",\"Survived\"],[\"3rd\",\"Male\",\"Adult\",\"Yes\"])\n",
    "tfmad = countC([\"Class\",\"Sex\",\"Age\",\"Survived\"],[\"3rd\",\"Female\",\"Adult\",\"No\"])\n",
    "tfmal = countC([\"Class\",\"Sex\",\"Age\",\"Survived\"],[\"3rd\",\"Female\",\"Adult\",\"Yes\"])\n",
    "cmad = countC([\"Class\",\"Sex\",\"Age\",\"Survived\"],[\"Crew\",\"Male\",\"Adult\",\"No\"])\n",
    "cmal = countC([\"Class\",\"Sex\",\"Age\",\"Survived\"],[\"Crew\",\"Male\",\"Adult\",\"Yes\"])\n",
    "cfmad = countC([\"Class\",\"Sex\",\"Age\",\"Survived\"],[\"Crew\",\"Female\",\"Adult\",\"No\"])\n",
    "cfmal = countC([\"Class\",\"Sex\",\"Age\",\"Survived\"],[\"Crew\",\"Female\",\"Adult\",\"Yes\"])\n",
    "print(fmad)\n",
    "print(fmal)\n",
    "print(smad)\n",
    "print(smal)\n",
    "print(tmad)\n",
    "print(tmal)\n",
    "print(cmad)\n",
    "print(cmal)\n",
    "print(\"-------------------------------\")\n",
    "print(ffmad)\n",
    "print(ffmal)\n",
    "print(sfmad)\n",
    "print(sfmal)\n",
    "print(tfmad)\n",
    "print(tfmal)\n",
    "print(cfmad)\n",
    "print(cfmal)"
   ]
  },
  {
   "cell_type": "code",
   "execution_count": 77,
   "metadata": {},
   "outputs": [
    {
     "name": "stdout",
     "output_type": "stream",
     "text": [
      "175\n",
      "168\n",
      "462\n",
      "862\n",
      "----------------------------------\n",
      "144\n",
      "93\n",
      "165\n",
      "23\n"
     ]
    }
   ],
   "source": [
    "fma = countC([\"Class\",\"Sex\",\"Age\"],[\"1st\",\"Male\",\"Adult\"])\n",
    "sma = countC([\"Class\",\"Sex\",\"Age\"],[\"2nd\",\"Male\",\"Adult\"])\n",
    "tma = countC([\"Class\",\"Sex\",\"Age\"],[\"3rd\",\"Male\",\"Adult\"])\n",
    "cma = countC([\"Class\",\"Sex\",\"Age\"],[\"Crew\",\"Male\",\"Adult\"])\n",
    "ffma = countC([\"Class\",\"Sex\",\"Age\"],[\"1st\",\"Female\",\"Adult\"])\n",
    "sfma = countC([\"Class\",\"Sex\",\"Age\"],[\"2nd\",\"Female\",\"Adult\"])\n",
    "tfma = countC([\"Class\",\"Sex\",\"Age\"],[\"3rd\",\"Female\",\"Adult\"])\n",
    "cfma = countC([\"Class\",\"Sex\",\"Age\"],[\"Crew\",\"Female\",\"Adult\"])\n",
    "print(fma)\n",
    "print(sma)\n",
    "print(tma)\n",
    "print(cma)\n",
    "print(\"----------------------------------\")\n",
    "print(ffma)\n",
    "print(sfma)\n",
    "print(tfma)\n",
    "print(cfma)"
   ]
  },
  {
   "cell_type": "code",
   "execution_count": 79,
   "metadata": {},
   "outputs": [
    {
     "name": "stdout",
     "output_type": "stream",
     "text": [
      "0.05361199454793276\n",
      "0.025897319400272602\n",
      "0.06996819627442072\n",
      "0.006360745115856429\n",
      "0.17582916855974556\n",
      "0.034075420263516586\n",
      "0.3044070876874148\n",
      "0.08723307587460245\n",
      "---------------\n",
      "0.001817355747387551\n",
      "0.06360745115856428\n",
      "0.005906406179009541\n",
      "0.03634711494775102\n",
      "0.040436165379373015\n",
      "0.03452975920036347\n",
      "0.0013630168105406633\n",
      "0.009086778736937756\n"
     ]
    }
   ],
   "source": [
    "supfmad = fmad/col\n",
    "supfmal = fmal/col\n",
    "supsmad = smad/col\n",
    "supsmal = smal/col\n",
    "suptmad = tmad/col\n",
    "suptmal = tmal/col\n",
    "supcmad = cmad/col\n",
    "supcmal = cmal/col\n",
    "print(supfmad)\n",
    "print(supfmal)\n",
    "print(supsmad)\n",
    "print(supsmal)\n",
    "print(suptmad)\n",
    "print(suptmal)\n",
    "print(supcmad)\n",
    "print(supcmal)\n",
    "supffmad = ffmad/col\n",
    "supffmal = ffmal/col\n",
    "supsfmad = sfmad/col\n",
    "supsfmal = sfmal/col\n",
    "suptfmad = tfmad/col\n",
    "suptfmal = tfmal/col\n",
    "supcfmad = cfmad/col\n",
    "supcfmal = cfmal/col\n",
    "print(\"---------------\")\n",
    "print(supffmad)\n",
    "print(supffmal)\n",
    "print(supsfmad)\n",
    "print(supsfmal)\n",
    "print(suptfmad)\n",
    "print(suptfmal)\n",
    "print(supcfmad)\n",
    "print(supcfmal)"
   ]
  },
  {
   "cell_type": "code",
   "execution_count": null,
   "metadata": {},
   "outputs": [],
   "source": [
    "confmad = fmad/fma\n",
    "confmal = fmal/fma\n",
    "consmad = smad/sma\n",
    "consmal = smal/sma\n",
    "contmad = tmad/tma\n",
    "contmal = tmal/tma\n",
    "concmad = cmad/cma\n",
    "concmal = cmal/cma\n",
    "\n",
    "conffmad = ffmad/ffma\n",
    "conffmal = ffmal/ffma\n",
    "consfmad = sfmad/sfma\n",
    "consfmal = sfmal/sfma\n",
    "contfmad = tfmad/tfma\n",
    "contfmal = tfmal/tfma\n",
    "concfmad = cfmad/cfma\n",
    "concfmal = cfmal/cfma\n",
    "print(confmad)\n",
    "print(confmal)\n",
    "print(consmad)\n",
    "print(consmal)\n",
    "print(contmad)\n",
    "print(contmal)\n",
    "print(concmad)\n",
    "print(concmal)\n",
    "print(\"---------------------\")\n",
    "print(conffmad)\n",
    "print(conffmal)\n",
    "print(consfmad)\n",
    "print(consfmal)\n",
    "print(contfmad)\n",
    "print(contfmal)\n",
    "print(concfmad)\n",
    "print(concfmal)"
   ]
  },
  {
   "cell_type": "code",
   "execution_count": null,
   "metadata": {},
   "outputs": [],
   "source": [
    "tfmad = confmad / supdead\n",
    "tfmal = confmal / suplive\n",
    "tsmad = consmad / supdead\n",
    "tsmal = consmal / suplive\n",
    "ttmad = contmad / supdead\n",
    "ttmal = contmal / suplive\n",
    "tcmad = concmad / supdead\n",
    "tcmal = concmal / suplive\n",
    "\n",
    "tffmad = conffmad / supdead\n",
    "tffmal = conffmal / suplive\n",
    "tsfmad = consfmad / supdead\n",
    "tsfmal = consfmal / suplive\n",
    "ttfmad = contfmad / supdead\n",
    "ttfmal = contfmal / suplive\n",
    "tcfmad = concfmad / supdead\n",
    "tcfmal = concfmal / suplive\n",
    "print(tfmad)\n",
    "print(tfmal)\n",
    "print(tsmad)\n",
    "print(tsmal)\n",
    "print(ttmad)\n",
    "print(ttmal)\n",
    "print(tcmad)\n",
    "print(tcmal)\n",
    "\n",
    "print(\"-------------------------\")\n",
    "print(tffmad)\n",
    "print(tffmal)\n",
    "print(tsfmad)\n",
    "print(tsfmal)\n",
    "print(ttfmad)\n",
    "print(ttfmal)\n",
    "print(tcfmad)\n",
    "print(tcfmal)"
   ]
  },
  {
   "cell_type": "code",
   "execution_count": null,
   "metadata": {},
   "outputs": [],
   "source": []
  }
 ],
 "metadata": {
  "kernelspec": {
   "display_name": "Python 3",
   "language": "python",
   "name": "python3"
  },
  "language_info": {
   "codemirror_mode": {
    "name": "ipython",
    "version": 3
   },
   "file_extension": ".py",
   "mimetype": "text/x-python",
   "name": "python",
   "nbconvert_exporter": "python",
   "pygments_lexer": "ipython3",
   "version": "3.7.0"
  }
 },
 "nbformat": 4,
 "nbformat_minor": 4
}
